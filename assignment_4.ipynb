{
 "cells": [
  {
   "cell_type": "code",
   "execution_count": 1,
   "id": "12e64304",
   "metadata": {},
   "outputs": [
    {
     "name": "stdout",
     "output_type": "stream",
     "text": [
      "Collecting package metadata (current_repodata.json): done\n",
      "Solving environment: done\n",
      "\n",
      "# All requested packages already installed.\n",
      "\n"
     ]
    }
   ],
   "source": [
    "!conda install -c anaconda beautifulsoup4 -y"
   ]
  },
  {
   "cell_type": "code",
   "execution_count": 1,
   "id": "3ccbba16",
   "metadata": {},
   "outputs": [
    {
     "name": "stdout",
     "output_type": "stream",
     "text": [
      "Requirement already satisfied: requests in /Users/uqbrlnakka/opt/anaconda3/lib/python3.8/site-packages (2.25.1)\n",
      "Requirement already satisfied: idna<3,>=2.5 in /Users/uqbrlnakka/opt/anaconda3/lib/python3.8/site-packages (from requests) (2.10)\n",
      "Requirement already satisfied: urllib3<1.27,>=1.21.1 in /Users/uqbrlnakka/opt/anaconda3/lib/python3.8/site-packages (from requests) (1.26.4)\n",
      "Requirement already satisfied: certifi>=2017.4.17 in /Users/uqbrlnakka/opt/anaconda3/lib/python3.8/site-packages (from requests) (2020.12.5)\n",
      "Requirement already satisfied: chardet<5,>=3.0.2 in /Users/uqbrlnakka/opt/anaconda3/lib/python3.8/site-packages (from requests) (4.0.0)\n"
     ]
    }
   ],
   "source": [
    "!pip install requests"
   ]
  },
  {
   "cell_type": "code",
   "execution_count": 3,
   "id": "3318fd40",
   "metadata": {},
   "outputs": [],
   "source": [
    "import requests\n",
    "from bs4 import BeautifulSoup\n",
    "import re\n",
    "import dateutil"
   ]
  },
  {
   "cell_type": "code",
   "execution_count": 4,
   "id": "525d3e14",
   "metadata": {},
   "outputs": [
    {
     "name": "stdout",
     "output_type": "stream",
     "text": [
      "<Response [200]>\n"
     ]
    }
   ],
   "source": [
    "from urllib.request import urlopen\n",
    "\n",
    "url = 'https://www.douban.com/event/search?search_text=%E7%81%AB%E9%94%85&loc=chongqing'\n",
    "headers = {'User-Agent': 'Mozilla/5.0 (Macintosh; Intel Mac OS X 10_15_7) AppleWebKit/537.36 (KHTML, like Gecko) Chrome/94.0.4606.71 Safari/537.36'}\n",
    "result = requests.get(url, headers=headers)\n",
    "print(result)\n"
   ]
  },
  {
   "cell_type": "code",
   "execution_count": 5,
   "id": "6190581b",
   "metadata": {},
   "outputs": [
    {
     "name": "stdout",
     "output_type": "stream",
     "text": [
      "[<li class=\"search-list-entry\" style=\"\">\n",
      "<div class=\"pic\">\n",
      "<a href=\"https://www.douban.com/event/33709085/\" onclick=\"moreurl(this,{i:'0',query:'%E7%81%AB%E9%94%85',from:'event_search',sid:'33709085'})\">\n",
      "<img src=\"https://img9.doubanio.com/pview/event_poster/small/public/e78d6ab264926db.jpg\" width=\"70\"/>\n",
      "</a>\n",
      "</div>\n",
      "<div class=\"info\">\n",
      "<div class=\"event-title\">\n",
      "<a href=\"https://www.douban.com/event/33709085/\" onclick=\"moreurl(this,{i:'0',query:'%E7%81%AB%E9%94%85',from:'event_search',sid:'33709085'})\" title=\"美食之夜：火锅英雄\">\n",
      "            美食之夜：火锅英雄\n",
      "          </a>\n",
      "</div>\n",
      "<ul>\n",
      "<li class=\"search-list-item\">\n",
      "          09月03日 18:00-20:00 …\n",
      "          <span class=\"separator\"> | </span>\n",
      "            渝中区\n",
      "          渝中区大坪\n",
      "          <span class=\"separator\"> | </span>\n",
      "<a href=\"https://www.douban.com/location/people/169978006/\">远方</a>\n",
      "</li>\n",
      "<li class=\"search-list-item\">\n",
      "<span>标签：</span>\n",
      "<a class=\"search-link-gray\" href=\"/event/search?loc=chongqing&amp;search_text=%E4%BC%91%E9%97%B2\">休闲</a>\n",
      "                ·\n",
      "            <a class=\"search-link-gray\" href=\"/event/search?loc=chongqing&amp;search_text=%E8%81%9A%E4%BC%9A\">聚会</a>\n",
      "                ·\n",
      "            <a class=\"search-link-gray\" href=\"/event/search?loc=chongqing&amp;search_text=%E4%BA%A4%E5%8F%8B\">交友</a>\n",
      "                ·\n",
      "            <a class=\"search-link-gray\" href=\"/event/search?loc=chongqing&amp;search_text=%E6%B4%BE%E5%AF%B9\">派对</a>\n",
      "                ·\n",
      "            <a class=\"search-link-gray\" href=\"/event/search?loc=chongqing&amp;search_text=%E7%81%AB%E9%94%85\">火锅</a>\n",
      "</li>\n",
      "<li class=\"search-list-item\">\n",
      "<a class=\"search-link-gray\" href=\"https://www.douban.com/event/33709085/participant\"><span class=\"search-event-count\">1</span>人要参加</a>\n",
      "            <a class=\"search-link-gray\" href=\"https://www.douban.com/event/33709085/wisher\"><span class=\"search-event-count\">0</span>人感兴趣</a>\n",
      "</li>\n",
      "</ul>\n",
      "</div>\n",
      "</li>, <li class=\"search-list-entry\" style=\"\">\n",
      "<div class=\"pic\">\n",
      "<a href=\"https://www.douban.com/event/34025821/\" onclick=\"moreurl(this,{i:'1',query:'%E7%81%AB%E9%94%85',from:'event_search',sid:'34025821'})\">\n",
      "<img src=\"https://img9.doubanio.com/pview/event_poster/small/public/e3cba71ae9a1e3b.jpg\" width=\"70\"/>\n",
      "</a>\n",
      "</div>\n",
      "<div class=\"info\">\n",
      "<div class=\"event-title\">\n",
      "<a href=\"https://www.douban.com/event/34025821/\" onclick=\"moreurl(this,{i:'1',query:'%E7%81%AB%E9%94%85',from:'event_search',sid:'34025821'})\" title=\"打卡抖音网红，徒步穿越南山，相聚枇杷园火锅\">\n",
      "            打卡抖音网红，徒步穿越南山，相聚枇杷园火锅\n",
      "          </a>\n",
      "</div>\n",
      "<ul>\n",
      "<li class=\"search-list-item\">\n",
      "          09月04日 10:00-15:00 …\n",
      "          <span class=\"separator\"> | </span>\n",
      "            南岸区\n",
      "          轨道交通六公里站\n",
      "          <span class=\"separator\"> | </span>\n",
      "<a href=\"https://www.douban.com/location/people/169978006/\">远方</a>\n",
      "</li>\n",
      "<li class=\"search-list-item\">\n",
      "<span>标签：</span>\n",
      "<a class=\"search-link-gray\" href=\"/event/search?loc=chongqing&amp;search_text=%E5%BE%92%E6%AD%A5\">徒步</a>\n",
      "                ·\n",
      "            <a class=\"search-link-gray\" href=\"/event/search?loc=chongqing&amp;search_text=%E7%88%AC%E5%B1%B1\">爬山</a>\n",
      "                ·\n",
      "            <a class=\"search-link-gray\" href=\"/event/search?loc=chongqing&amp;search_text=%E4%BA%A4%E5%8F%8B\">交友</a>\n",
      "                ·\n",
      "            <a class=\"search-link-gray\" href=\"/event/search?loc=chongqing&amp;search_text=%E8%81%9A%E4%BC%9A\">聚会</a>\n",
      "                ·\n",
      "            <a class=\"search-link-gray\" href=\"/event/search?loc=chongqing&amp;search_text=%E7%BE%8E%E9%A3%9F\">美食</a>\n",
      "</li>\n",
      "<li class=\"search-list-item\">\n",
      "<a class=\"search-link-gray\" href=\"https://www.douban.com/event/34025821/participant\"><span class=\"search-event-count\">1</span>人要参加</a>\n",
      "            <a class=\"search-link-gray\" href=\"https://www.douban.com/event/34025821/wisher\"><span class=\"search-event-count\">1</span>人感兴趣</a>\n",
      "</li>\n",
      "</ul>\n",
      "</div>\n",
      "</li>]\n"
     ]
    }
   ],
   "source": [
    "src = result.content\n",
    "soup = BeautifulSoup(src,'html.parser')\n",
    "events = soup.find_all(\"li\",attrs={\"class\":\"search-list-entry\"})\n",
    "print(events)"
   ]
  },
  {
   "cell_type": "code",
   "execution_count": 31,
   "id": "2f5706d6",
   "metadata": {},
   "outputs": [
    {
     "name": "stdout",
     "output_type": "stream",
     "text": [
      "['美食之夜：火锅英雄', '打卡抖音网红，徒步穿越南山，相聚枇杷园火锅']\n",
      "['09月03日 18:00-20:00 …            渝中区渝中区大坪远方', '09月04日 10:00-15:00 …            南岸区轨道交通六公里站远方']\n"
     ]
    },
    {
     "data": {
      "text/html": [
       "<div>\n",
       "<style scoped>\n",
       "    .dataframe tbody tr th:only-of-type {\n",
       "        vertical-align: middle;\n",
       "    }\n",
       "\n",
       "    .dataframe tbody tr th {\n",
       "        vertical-align: top;\n",
       "    }\n",
       "\n",
       "    .dataframe thead th {\n",
       "        text-align: right;\n",
       "    }\n",
       "</style>\n",
       "<table border=\"1\" class=\"dataframe\">\n",
       "  <thead>\n",
       "    <tr style=\"text-align: right;\">\n",
       "      <th></th>\n",
       "      <th>Name</th>\n",
       "      <th>Time and Locations</th>\n",
       "    </tr>\n",
       "  </thead>\n",
       "  <tbody>\n",
       "    <tr>\n",
       "      <th>0</th>\n",
       "      <td>美食之夜：火锅英雄</td>\n",
       "      <td>09月03日 18:00-20:00 …            渝中区渝中区大坪远方</td>\n",
       "    </tr>\n",
       "    <tr>\n",
       "      <th>1</th>\n",
       "      <td>打卡抖音网红，徒步穿越南山，相聚枇杷园火锅</td>\n",
       "      <td>09月04日 10:00-15:00 …            南岸区轨道交通六公里站远方</td>\n",
       "    </tr>\n",
       "  </tbody>\n",
       "</table>\n",
       "</div>"
      ],
      "text/plain": [
       "                    Name                             Time and Locations\n",
       "0              美食之夜：火锅英雄     09月03日 18:00-20:00 …            渝中区渝中区大坪远方\n",
       "1  打卡抖音网红，徒步穿越南山，相聚枇杷园火锅  09月04日 10:00-15:00 …            南岸区轨道交通六公里站远方"
      ]
     },
     "execution_count": 31,
     "metadata": {},
     "output_type": "execute_result"
    }
   ],
   "source": [
    "import requests\n",
    "import csv\n",
    "import pandas as pd\n",
    "from bs4 import BeautifulSoup\n",
    "import pandas as pd\n",
    "\n",
    "names = []\n",
    "time_location = []\n",
    "\n",
    "url = 'https://www.douban.com/event/search?search_text=%E7%81%AB%E9%94%85&loc=chongqing'\n",
    "quote_page = requests.get(url)\n",
    "soup = BeautifulSoup(quote_page.content,'html.parser')\n",
    "\n",
    "for item in events:\n",
    "    name=item.find(\"div\",attrs={\"class\":\"event-title\"})\n",
    "    time_lo=item.find(\"li\",attrs={\"class\":\"search-list-item\"})\n",
    "    if name != None:\n",
    "        if name != None:\n",
    "            names.append(name.text.strip())\n",
    "        else:\n",
    "            time_location.append(None) \n",
    "        if time_lo != None: \n",
    "            time_location.append(time_lo.text.strip().replace('\\n          \\xa0|\\xa0\\n','').replace('\\n          ',''))\n",
    "        else:\n",
    "            time_location.append(None) \n",
    "print(names)                \n",
    "print(time_location)\n",
    "                \n",
    "df=pd.DataFrame({\"Name\":names, \"Time and Locations\":time_location})           \n",
    "df.to_csv('activity.csv',mode='w',index=False)\n",
    "df           \n",
    "\n",
    "\n",
    "\n",
    "\n",
    "\n",
    "\n",
    "\n"
   ]
  },
  {
   "cell_type": "code",
   "execution_count": null,
   "id": "83aaa3fa",
   "metadata": {},
   "outputs": [],
   "source": []
  }
 ],
 "metadata": {
  "kernelspec": {
   "display_name": "Python 3",
   "language": "python",
   "name": "python3"
  },
  "language_info": {
   "codemirror_mode": {
    "name": "ipython",
    "version": 3
   },
   "file_extension": ".py",
   "mimetype": "text/x-python",
   "name": "python",
   "nbconvert_exporter": "python",
   "pygments_lexer": "ipython3",
   "version": "3.8.8"
  }
 },
 "nbformat": 4,
 "nbformat_minor": 5
}
